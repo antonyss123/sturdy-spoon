{
    "cells": [
        {
            "cell_type": "markdown",
            "metadata": {},
            "source": "# Description \nThis notebook will run the cars data"
        },
        {
            "cell_type": "code",
            "execution_count": null,
            "metadata": {},
            "outputs": [],
            "source": ""
        },
        {
            "cell_type": "code",
            "execution_count": 1,
            "metadata": {},
            "outputs": [
                {
                    "data": {
                        "text/html": "<div>\n<style scoped>\n    .dataframe tbody tr th:only-of-type {\n        vertical-align: middle;\n    }\n\n    .dataframe tbody tr th {\n        vertical-align: top;\n    }\n\n    .dataframe thead th {\n        text-align: right;\n    }\n</style>\n<table border=\"1\" class=\"dataframe\">\n  <thead>\n    <tr style=\"text-align: right;\">\n      <th></th>\n      <th>Make</th>\n      <th>Model</th>\n      <th>Year</th>\n      <th>Engine Fuel Type</th>\n      <th>Engine HP</th>\n      <th>Engine Cylinders</th>\n      <th>Transmission Type</th>\n      <th>Driven_Wheels</th>\n      <th>Number of Doors</th>\n      <th>Market Category</th>\n      <th>Vehicle Size</th>\n      <th>Vehicle Style</th>\n      <th>highway MPG</th>\n      <th>city mpg</th>\n      <th>Popularity</th>\n      <th>MSRP</th>\n    </tr>\n  </thead>\n  <tbody>\n    <tr>\n      <th>0</th>\n      <td>BMW</td>\n      <td>1 Series M</td>\n      <td>2011</td>\n      <td>premium unleaded (required)</td>\n      <td>335.0</td>\n      <td>6.0</td>\n      <td>MANUAL</td>\n      <td>rear wheel drive</td>\n      <td>2.0</td>\n      <td>Factory Tuner,Luxury,High-Performance</td>\n      <td>Compact</td>\n      <td>Coupe</td>\n      <td>26</td>\n      <td>19</td>\n      <td>3916</td>\n      <td>46135</td>\n    </tr>\n    <tr>\n      <th>1</th>\n      <td>BMW</td>\n      <td>1 Series</td>\n      <td>2011</td>\n      <td>premium unleaded (required)</td>\n      <td>300.0</td>\n      <td>6.0</td>\n      <td>MANUAL</td>\n      <td>rear wheel drive</td>\n      <td>2.0</td>\n      <td>Luxury,Performance</td>\n      <td>Compact</td>\n      <td>Convertible</td>\n      <td>28</td>\n      <td>19</td>\n      <td>3916</td>\n      <td>40650</td>\n    </tr>\n    <tr>\n      <th>2</th>\n      <td>BMW</td>\n      <td>1 Series</td>\n      <td>2011</td>\n      <td>premium unleaded (required)</td>\n      <td>300.0</td>\n      <td>6.0</td>\n      <td>MANUAL</td>\n      <td>rear wheel drive</td>\n      <td>2.0</td>\n      <td>Luxury,High-Performance</td>\n      <td>Compact</td>\n      <td>Coupe</td>\n      <td>28</td>\n      <td>20</td>\n      <td>3916</td>\n      <td>36350</td>\n    </tr>\n    <tr>\n      <th>3</th>\n      <td>BMW</td>\n      <td>1 Series</td>\n      <td>2011</td>\n      <td>premium unleaded (required)</td>\n      <td>230.0</td>\n      <td>6.0</td>\n      <td>MANUAL</td>\n      <td>rear wheel drive</td>\n      <td>2.0</td>\n      <td>Luxury,Performance</td>\n      <td>Compact</td>\n      <td>Coupe</td>\n      <td>28</td>\n      <td>18</td>\n      <td>3916</td>\n      <td>29450</td>\n    </tr>\n    <tr>\n      <th>4</th>\n      <td>BMW</td>\n      <td>1 Series</td>\n      <td>2011</td>\n      <td>premium unleaded (required)</td>\n      <td>230.0</td>\n      <td>6.0</td>\n      <td>MANUAL</td>\n      <td>rear wheel drive</td>\n      <td>2.0</td>\n      <td>Luxury</td>\n      <td>Compact</td>\n      <td>Convertible</td>\n      <td>28</td>\n      <td>18</td>\n      <td>3916</td>\n      <td>34500</td>\n    </tr>\n  </tbody>\n</table>\n</div>",
                        "text/plain": "  Make       Model  Year             Engine Fuel Type  Engine HP  \\\n0  BMW  1 Series M  2011  premium unleaded (required)      335.0   \n1  BMW    1 Series  2011  premium unleaded (required)      300.0   \n2  BMW    1 Series  2011  premium unleaded (required)      300.0   \n3  BMW    1 Series  2011  premium unleaded (required)      230.0   \n4  BMW    1 Series  2011  premium unleaded (required)      230.0   \n\n   Engine Cylinders Transmission Type     Driven_Wheels  Number of Doors  \\\n0               6.0            MANUAL  rear wheel drive              2.0   \n1               6.0            MANUAL  rear wheel drive              2.0   \n2               6.0            MANUAL  rear wheel drive              2.0   \n3               6.0            MANUAL  rear wheel drive              2.0   \n4               6.0            MANUAL  rear wheel drive              2.0   \n\n                         Market Category Vehicle Size Vehicle Style  \\\n0  Factory Tuner,Luxury,High-Performance      Compact         Coupe   \n1                     Luxury,Performance      Compact   Convertible   \n2                Luxury,High-Performance      Compact         Coupe   \n3                     Luxury,Performance      Compact         Coupe   \n4                                 Luxury      Compact   Convertible   \n\n   highway MPG  city mpg  Popularity   MSRP  \n0           26        19        3916  46135  \n1           28        19        3916  40650  \n2           28        20        3916  36350  \n3           28        18        3916  29450  \n4           28        18        3916  34500  "
                    },
                    "execution_count": 1,
                    "metadata": {},
                    "output_type": "execute_result"
                }
            ],
            "source": "# The code was removed by Watson Studio for sharing."
        },
        {
            "cell_type": "markdown",
            "metadata": {},
            "source": "# Weather data JFK"
        },
        {
            "cell_type": "code",
            "execution_count": 1,
            "metadata": {},
            "outputs": [
                {
                    "name": "stderr",
                    "output_type": "stream",
                    "text": "/tmp/wsuser/ipykernel_169/2505087805.py:24: DtypeWarning: Columns (8,10,11,12,13,14,15,16,17,20,22,23,25,40,63,64,67,68,69,84,85,86,87) have mixed types. Specify dtype option on import or set low_memory=False.\n  df_data_2 = pd.read_csv(body)\n"
                },
                {
                    "data": {
                        "text/html": "<div>\n<style scoped>\n    .dataframe tbody tr th:only-of-type {\n        vertical-align: middle;\n    }\n\n    .dataframe tbody tr th {\n        vertical-align: top;\n    }\n\n    .dataframe thead th {\n        text-align: right;\n    }\n</style>\n<table border=\"1\" class=\"dataframe\">\n  <thead>\n    <tr style=\"text-align: right;\">\n      <th></th>\n      <th>STATION</th>\n      <th>STATION_NAME</th>\n      <th>ELEVATION</th>\n      <th>LATITUDE</th>\n      <th>LONGITUDE</th>\n      <th>DATE</th>\n      <th>REPORTTPYE</th>\n      <th>HOURLYSKYCONDITIONS</th>\n      <th>HOURLYVISIBILITY</th>\n      <th>HOURLYPRSENTWEATHERTYPE</th>\n      <th>...</th>\n      <th>MonthlyMaxSeaLevelPressureTime</th>\n      <th>MonthlyMinSeaLevelPressureValue</th>\n      <th>MonthlyMinSeaLevelPressureDate</th>\n      <th>MonthlyMinSeaLevelPressureTime</th>\n      <th>MonthlyTotalHeatingDegreeDays</th>\n      <th>MonthlyTotalCoolingDegreeDays</th>\n      <th>MonthlyDeptFromNormalHeatingDD</th>\n      <th>MonthlyDeptFromNormalCoolingDD</th>\n      <th>MonthlyTotalSeasonToDateHeatingDD</th>\n      <th>MonthlyTotalSeasonToDateCoolingDD</th>\n    </tr>\n  </thead>\n  <tbody>\n    <tr>\n      <th>0</th>\n      <td>WBAN:94789</td>\n      <td>JFK INTERNATIONAL AIRPORT NY US</td>\n      <td>3.4</td>\n      <td>40.6386</td>\n      <td>-73.7622</td>\n      <td>2010-01-01 00:51</td>\n      <td>FM-15</td>\n      <td>FEW:02 7 SCT:04 13 BKN:07 29</td>\n      <td>6.00</td>\n      <td>-RA:02 PL:06 BR:1 |RA:61 PL:74 |RA:61 PL:79</td>\n      <td>...</td>\n      <td>-9999</td>\n      <td>NaN</td>\n      <td>-9999</td>\n      <td>-9999</td>\n      <td>NaN</td>\n      <td>NaN</td>\n      <td>NaN</td>\n      <td>NaN</td>\n      <td>NaN</td>\n      <td>NaN</td>\n    </tr>\n    <tr>\n      <th>1</th>\n      <td>WBAN:94789</td>\n      <td>JFK INTERNATIONAL AIRPORT NY US</td>\n      <td>3.4</td>\n      <td>40.6386</td>\n      <td>-73.7622</td>\n      <td>2010-01-01 01:00</td>\n      <td>FM-12</td>\n      <td>NaN</td>\n      <td>5.59</td>\n      <td>||PL:79</td>\n      <td>...</td>\n      <td>-9999</td>\n      <td>NaN</td>\n      <td>-9999</td>\n      <td>-9999</td>\n      <td>NaN</td>\n      <td>NaN</td>\n      <td>NaN</td>\n      <td>NaN</td>\n      <td>NaN</td>\n      <td>NaN</td>\n    </tr>\n    <tr>\n      <th>2</th>\n      <td>WBAN:94789</td>\n      <td>JFK INTERNATIONAL AIRPORT NY US</td>\n      <td>3.4</td>\n      <td>40.6386</td>\n      <td>-73.7622</td>\n      <td>2010-01-01 01:51</td>\n      <td>FM-15</td>\n      <td>FEW:02 6 SCT:04 13 OVC:08 35</td>\n      <td>6.00</td>\n      <td>-RA:02 PL:06 BR:1 |RA:61 PL:74 |RA:61 PL:79</td>\n      <td>...</td>\n      <td>-9999</td>\n      <td>NaN</td>\n      <td>-9999</td>\n      <td>-9999</td>\n      <td>NaN</td>\n      <td>NaN</td>\n      <td>NaN</td>\n      <td>NaN</td>\n      <td>NaN</td>\n      <td>NaN</td>\n    </tr>\n    <tr>\n      <th>3</th>\n      <td>WBAN:94789</td>\n      <td>JFK INTERNATIONAL AIRPORT NY US</td>\n      <td>3.4</td>\n      <td>40.6386</td>\n      <td>-73.7622</td>\n      <td>2010-01-01 02:03</td>\n      <td>FM-16</td>\n      <td>FEW:02 6 SCT:04 13 OVC:08 35</td>\n      <td>6.00</td>\n      <td>-RA:02 BR:1 |RA:61 |RA:61</td>\n      <td>...</td>\n      <td>-9999</td>\n      <td>NaN</td>\n      <td>-9999</td>\n      <td>-9999</td>\n      <td>NaN</td>\n      <td>NaN</td>\n      <td>NaN</td>\n      <td>NaN</td>\n      <td>NaN</td>\n      <td>NaN</td>\n    </tr>\n    <tr>\n      <th>4</th>\n      <td>WBAN:94789</td>\n      <td>JFK INTERNATIONAL AIRPORT NY US</td>\n      <td>3.4</td>\n      <td>40.6386</td>\n      <td>-73.7622</td>\n      <td>2010-01-01 02:28</td>\n      <td>FM-16</td>\n      <td>BKN:07 7 BKN:07 15 OVC:08 35</td>\n      <td>5.00</td>\n      <td>-RA:02 BR:1 |RA:61 |RA:61</td>\n      <td>...</td>\n      <td>-9999</td>\n      <td>NaN</td>\n      <td>-9999</td>\n      <td>-9999</td>\n      <td>NaN</td>\n      <td>NaN</td>\n      <td>NaN</td>\n      <td>NaN</td>\n      <td>NaN</td>\n      <td>NaN</td>\n    </tr>\n  </tbody>\n</table>\n<p>5 rows \u00d7 90 columns</p>\n</div>",
                        "text/plain": "      STATION                     STATION_NAME  ELEVATION  LATITUDE  \\\n0  WBAN:94789  JFK INTERNATIONAL AIRPORT NY US        3.4   40.6386   \n1  WBAN:94789  JFK INTERNATIONAL AIRPORT NY US        3.4   40.6386   \n2  WBAN:94789  JFK INTERNATIONAL AIRPORT NY US        3.4   40.6386   \n3  WBAN:94789  JFK INTERNATIONAL AIRPORT NY US        3.4   40.6386   \n4  WBAN:94789  JFK INTERNATIONAL AIRPORT NY US        3.4   40.6386   \n\n   LONGITUDE              DATE REPORTTPYE           HOURLYSKYCONDITIONS  \\\n0   -73.7622  2010-01-01 00:51      FM-15  FEW:02 7 SCT:04 13 BKN:07 29   \n1   -73.7622  2010-01-01 01:00      FM-12                           NaN   \n2   -73.7622  2010-01-01 01:51      FM-15  FEW:02 6 SCT:04 13 OVC:08 35   \n3   -73.7622  2010-01-01 02:03      FM-16  FEW:02 6 SCT:04 13 OVC:08 35   \n4   -73.7622  2010-01-01 02:28      FM-16  BKN:07 7 BKN:07 15 OVC:08 35   \n\n  HOURLYVISIBILITY                      HOURLYPRSENTWEATHERTYPE  ...  \\\n0             6.00  -RA:02 PL:06 BR:1 |RA:61 PL:74 |RA:61 PL:79  ...   \n1             5.59                                      ||PL:79  ...   \n2             6.00  -RA:02 PL:06 BR:1 |RA:61 PL:74 |RA:61 PL:79  ...   \n3             6.00                    -RA:02 BR:1 |RA:61 |RA:61  ...   \n4             5.00                    -RA:02 BR:1 |RA:61 |RA:61  ...   \n\n  MonthlyMaxSeaLevelPressureTime MonthlyMinSeaLevelPressureValue  \\\n0                          -9999                             NaN   \n1                          -9999                             NaN   \n2                          -9999                             NaN   \n3                          -9999                             NaN   \n4                          -9999                             NaN   \n\n  MonthlyMinSeaLevelPressureDate MonthlyMinSeaLevelPressureTime  \\\n0                          -9999                          -9999   \n1                          -9999                          -9999   \n2                          -9999                          -9999   \n3                          -9999                          -9999   \n4                          -9999                          -9999   \n\n  MonthlyTotalHeatingDegreeDays MonthlyTotalCoolingDegreeDays  \\\n0                           NaN                           NaN   \n1                           NaN                           NaN   \n2                           NaN                           NaN   \n3                           NaN                           NaN   \n4                           NaN                           NaN   \n\n  MonthlyDeptFromNormalHeatingDD MonthlyDeptFromNormalCoolingDD  \\\n0                            NaN                            NaN   \n1                            NaN                            NaN   \n2                            NaN                            NaN   \n3                            NaN                            NaN   \n4                            NaN                            NaN   \n\n  MonthlyTotalSeasonToDateHeatingDD  MonthlyTotalSeasonToDateCoolingDD  \n0                               NaN                                NaN  \n1                               NaN                                NaN  \n2                               NaN                                NaN  \n3                               NaN                                NaN  \n4                               NaN                                NaN  \n\n[5 rows x 90 columns]"
                    },
                    "execution_count": 1,
                    "metadata": {},
                    "output_type": "execute_result"
                }
            ],
            "source": "# The code was removed by Watson Studio for sharing."
        },
        {
            "cell_type": "code",
            "execution_count": null,
            "metadata": {},
            "outputs": [],
            "source": ""
        }
    ],
    "metadata": {
        "kernelspec": {
            "display_name": "Python 3.10",
            "language": "python",
            "name": "python3"
        },
        "language_info": {
            "codemirror_mode": {
                "name": "ipython",
                "version": 3
            },
            "file_extension": ".py",
            "mimetype": "text/x-python",
            "name": "python",
            "nbconvert_exporter": "python",
            "pygments_lexer": "ipython3",
            "version": "3.10.9"
        }
    },
    "nbformat": 4,
    "nbformat_minor": 1
}